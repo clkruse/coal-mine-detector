{
 "cells": [
  {
   "cell_type": "code",
   "execution_count": null,
   "metadata": {},
   "outputs": [],
   "source": [
    "import geopandas as gpd"
   ]
  },
  {
   "cell_type": "code",
   "execution_count": null,
   "metadata": {
    "ExecuteTime": {
     "end_time": "2024-01-12T15:54:29.406495Z",
     "start_time": "2024-01-12T15:54:29.280549Z"
    }
   },
   "outputs": [],
   "source": [
    "fname = 'china_mine_test_64_px_v0.2_0.8_1_2023-12_2023'\n",
    "base_path = '../data/outputs/64px_v0.2'\n",
    "data = gpd.read_file(f'{base_path}/{fname}.geojson')"
   ]
  },
  {
   "cell_type": "markdown",
   "metadata": {},
   "source": [
    "## Optionally, filter the dataframe prior to merge"
   ]
  },
  {
   "cell_type": "code",
   "execution_count": null,
   "metadata": {
    "ExecuteTime": {
     "end_time": "2024-01-12T15:54:30.196819Z",
     "start_time": "2024-01-12T15:54:30.187369Z"
    }
   },
   "outputs": [],
   "source": [
    "print(len(data['geometry']), 'features prior to filtering')\n",
    "data = data.loc[data['pred'] > 0.9]\n",
    "#data = data[data['count'] > 1]\n",
    "print(len(data['geometry']), 'features after filtering')"
   ]
  },
  {
   "cell_type": "code",
   "execution_count": null,
   "metadata": {
    "ExecuteTime": {
     "end_time": "2024-01-12T15:02:50.218556Z",
     "start_time": "2024-01-12T15:02:49.095864Z"
    }
   },
   "outputs": [],
   "source": [
    "buffer_width = .00001  # In epsg:4326, .00001 is roughly 1m\n",
    "dissolved_geoms = data.geometry.buffer(buffer_width, join_style=2).unary_union\n",
    "df = gpd.GeoDataFrame(geometry=[dissolved_geoms]).explode().buffer(-buffer_width, join_style=2).reset_index(drop=True)\n",
    "df"
   ]
  },
  {
   "cell_type": "code",
   "execution_count": null,
   "metadata": {
    "ExecuteTime": {
     "end_time": "2024-01-12T15:03:01.699516Z",
     "start_time": "2024-01-12T15:03:01.497752Z"
    }
   },
   "outputs": [],
   "source": [
    "df.to_file(f'{base_path}/{fname}-dissolved.geojson', driver='GeoJSON')"
   ]
  },
  {
   "cell_type": "code",
   "execution_count": null,
   "metadata": {},
   "outputs": [],
   "source": []
  }
 ],
 "metadata": {
  "interpreter": {
   "hash": "d425afa4a959a86aa036beaa1a58ff3469f38e31f3ec97f5785c695b9108eced"
  },
  "kernelspec": {
   "display_name": "Python 3 (ipykernel)",
   "language": "python",
   "name": "python3"
  },
  "language_info": {
   "codemirror_mode": {
    "name": "ipython",
    "version": 3
   },
   "file_extension": ".py",
   "mimetype": "text/x-python",
   "name": "python",
   "nbconvert_exporter": "python",
   "pygments_lexer": "ipython3",
   "version": "3.10.0"
  }
 },
 "nbformat": 4,
 "nbformat_minor": 2
}
